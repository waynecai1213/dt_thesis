{
 "cells": [
  {
   "cell_type": "code",
   "execution_count": null,
   "metadata": {},
   "outputs": [],
   "source": [
    "import numpy as np\n",
    "import pandas as pd\n",
    "import matplotlib.pyplot as plt\n",
    "import math\n",
    "\n",
    "if __name__ == '__main__':\n",
    "    # assume you saved your recordings into a \"data\" folder\n",
    "    default = pd.read_csv(\"data/default.csv\")\n",
    "    pat = pd.read_csv('data/pat.csv')\n",
    "    tickle = pd.read_csv('data/tickle.csv')\n",
    "    contantTouch = pd.read_csv('data/touch_3fingers.csv')\n",
    "  \n",
    "\n",
    "    default.plot(title='Default')\n",
    "    pat.plot(title='Pat')\n",
    "    tickle.plot(title='Tickle')\n",
    "    contantTouch.plot(title='Contant Touch')\n",
    "    plt.show()\n",
    "\n",
    "    # X is the array of features to train the model on\n",
    "    # y is the array of labels\n",
    "    X = np.vstack([\n",
    "        default.to_numpy(),\n",
    "        pat.to_numpy(),\n",
    "        tickle.to_numpy(),\n",
    "        contantTouch.to_numpy()\n",
    "    ])\n",
    "\n",
    "    y = np.concatenate([\n",
    "        0 * np.ones(len(default)),\n",
    "        1 * np.ones(len(pat)),\n",
    "        2 * np.ones(len(tickle)),\n",
    "        3 * np.ones(len(contantTouch))\n",
    "    ])\n",
    "\n",
    "    print(\"X.shape\", X.shape)\n",
    "    print(\"y.shape\", y.shape)"
   ]
  },
  {
   "cell_type": "code",
   "execution_count": null,
   "metadata": {},
   "outputs": [],
   "source": []
  },
  {
   "cell_type": "code",
   "execution_count": null,
   "metadata": {},
   "outputs": [],
   "source": []
  }
 ],
 "metadata": {
  "kernelspec": {
   "display_name": "Python 3",
   "language": "python",
   "name": "python3"
  },
  "language_info": {
   "codemirror_mode": {
    "name": "ipython",
    "version": 3
   },
   "file_extension": ".py",
   "mimetype": "text/x-python",
   "name": "python",
   "nbconvert_exporter": "python",
   "pygments_lexer": "ipython3",
   "version": "3.7.6"
  }
 },
 "nbformat": 4,
 "nbformat_minor": 4
}
